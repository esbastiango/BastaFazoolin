{
  "nbformat": 4,
  "nbformat_minor": 0,
  "metadata": {
    "colab": {
      "provenance": []
    },
    "kernelspec": {
      "name": "python3",
      "display_name": "Python 3"
    },
    "language_info": {
      "name": "python"
    }
  },
  "cells": [
    {
      "cell_type": "markdown",
      "source": [
        "# Introduction\n",
        "\n",
        "Welcome to the Basta Fazoolin' Restaurant System project! This notebook will guide you through the implementation of a restaurant management system using Python classes. The system consists of three main components: Menus, Franchises, and Businesses.\n",
        "\n",
        "The goal of this project is to simulate the operations of a growing family-style restaurant chain. We will create a Menu class to handle various menus (brunch, early-bird, dinner, and kids' menus), calculate the total cost of items, and manage different franchises that offer these menus at different times of the day.\n",
        "\n",
        "This project will help organize the restaurant’s operations, allowing for easy management of menus, pricing, and franchise locations as the business expands.\n",
        "\n",
        "Let’s get started by defining the Menu class and its methods."
      ],
      "metadata": {
        "id": "RQxvN_OA50Gk"
      }
    },
    {
      "cell_type": "code",
      "source": [
        "# Define the Menu class\n",
        "class Menu:\n",
        "  def __init__(self, name, items, start_time, end_time):\n",
        "    self.name = name  # Menu name (e.g., brunch, dinner)\n",
        "    self.items = items  # Dictionary of items available with prices\n",
        "    self.start_time = start_time  # Menu start time\n",
        "    self.end_time = end_time  # Menu end time\n",
        "\n",
        "  # String representation for easy printing\n",
        "  def __repr__(self):\n",
        "    return \"{name} menu. It serves from {start_time} to {end_time}\".format(name=self.name, start_time=self.start_time, end_time=self.end_time)\n",
        "\n",
        "  # Method to calculate the bill for purchased items\n",
        "  def calculate_bill(self, purchased_items):\n",
        "    bill = 0\n",
        "    for purchased_item in purchased_items:\n",
        "      if purchased_item in self.items:\n",
        "        bill += self.items[purchased_item]  # Add item price to bill\n",
        "      else:\n",
        "        print(\"Sorry, we don't have what you ordered\")  # Item not in menu\n",
        "    return bill\n",
        "\n",
        "# Define menu items for various menus\n",
        "brunch_items = {\n",
        "  'pancakes': 7.50, 'waffles': 9.00, 'burger': 11.00, 'home fries': 4.50, 'coffee': 1.50, 'espresso': 3.00, 'tea': 1.00, 'mimosa': 10.50, 'orange juice': 3.50\n",
        "}\n",
        "\n",
        "early_bird_items = {\n",
        "  'salumeria plate': 8.00, 'salad and breadsticks (serves 2, no refills)': 14.00, 'pizza with quattro formaggi': 9.00, 'duck ragu': 17.50, 'mushroom ravioli (vegan)': 13.50, 'coffee': 1.50, 'espresso': 3.00,\n",
        "}\n",
        "\n",
        "dinner_items = {\n",
        "  'crostini with eggplant caponata': 13.00, 'caesar salad': 16.00, 'pizza with quattro formaggi': 11.00, 'duck ragu': 19.50, 'mushroom ravioli (vegan)': 13.50, 'coffee': 2.00, 'espresso': 3.00,\n",
        "}\n",
        "\n",
        "kids_items = {\n",
        "  'chicken nuggets': 6.50, 'fusilli with wild mushrooms': 12.00, 'apple juice': 3.00\n",
        "}\n",
        "\n",
        "arepas_items = {\n",
        "  'arepa pabellon': 7.00, 'pernil arepa': 8.50, 'guayanes arepa': 8.00, 'jamon arepa': 7.50\n",
        "}\n",
        "\n",
        "# Create Menu objects for different meal times\n",
        "brunch_menu = Menu(\"brunch\", brunch_items, 11, 16)\n",
        "early_bird_menu = Menu(\"early bird\", early_bird_items, 15, 18)\n",
        "dinner_menu = Menu(\"dinner\", dinner_items, 17, 23)\n",
        "kids_menu = Menu(\"kids\", kids_items, 11, 21)\n",
        "\n",
        "menus = (brunch_menu, early_bird_menu, kids_menu, dinner_menu)\n",
        "arepas_menu = Menu(\"Take a'Arepa\", arepas_items, 10, 20)\n",
        "\n",
        "# Menu class testing\n",
        "print(brunch_menu)\n",
        "print(brunch_menu.calculate_bill(['pancakes', \"home fries\", 'coffee']))\n",
        "print(early_bird_menu.calculate_bill(['salumeria plate', \"mushroom ravioli (vegan)\"]))\n",
        "\n",
        "# Define the Franchises class\n",
        "class Franchises:\n",
        "  def __init__(self, address, menus):\n",
        "    self.address = address  # Franchise address\n",
        "    self.menus = menus  # List of menus available\n",
        "\n",
        "  # String representation for easy printing\n",
        "  def __repr__(self):\n",
        "    return \"This franchise is located at {address}\".format(address=self.address)\n",
        "\n",
        "  # Return available menus based on the time\n",
        "  def available_menus(self, time):\n",
        "    available_menus = []\n",
        "    for menu in self.menus:\n",
        "      if time >= menu.start_time and time < menu.end_time:\n",
        "        available_menus.append(menu)\n",
        "    return available_menus\n",
        "\n",
        "# Franchise information\n",
        "flagship_address = \"1232 West End Road\"\n",
        "flagship_store = Franchises(flagship_address, menus)\n",
        "\n",
        "installment_address = \"12 East Mulberry street\"\n",
        "new_installment = Franchises(installment_address, menus)\n",
        "\n",
        "arepas_address = \"189 Fitzgerald Avenue\"\n",
        "arepas_place = Franchises(arepas_address, arepas_menu)\n",
        "\n",
        "# Franchise Class testing\n",
        "print(flagship_store)\n",
        "print(flagship_store.available_menus(12))\n",
        "print(flagship_store.available_menus(17))\n",
        "\n",
        "# Define the Business class\n",
        "class Business:\n",
        "  def __init__(self, name, franchises):\n",
        "    self.name = name  # Business name\n",
        "    self.franchises = franchises  # List of franchises under this business\n",
        "\n",
        "# Create Business objects for the two businesses\n",
        "Basta = Business(\"Basta Fazoolin' with my heart\", [flagship_store, new_installment])\n",
        "Arepa = Business(\"Take a' Arepa\", arepas_place)\n",
        "\n",
        "print(Arepa.franchises)  # Print franchises under \"Take a' Arepa\"\n"
      ],
      "metadata": {
        "colab": {
          "base_uri": "https://localhost:8080/"
        },
        "id": "WyHpVyHo5t6J",
        "outputId": "22241cd3-312f-4b0b-84bc-90af8caed981"
      },
      "execution_count": 3,
      "outputs": [
        {
          "output_type": "stream",
          "name": "stdout",
          "text": [
            "brunch menu. It serves from 11 to 16\n",
            "13.5\n",
            "21.5\n",
            "This franchise is located at 1232 West End Road\n",
            "[brunch menu. It serves from 11 to 16, kids menu. It serves from 11 to 21]\n",
            "[early bird menu. It serves from 15 to 18, kids menu. It serves from 11 to 21, dinner menu. It serves from 17 to 23]\n",
            "This franchise is located at 189 Fitzgerald Avenue\n"
          ]
        }
      ]
    },
    {
      "cell_type": "code",
      "source": [],
      "metadata": {
        "id": "fPAAHID56d4W"
      },
      "execution_count": null,
      "outputs": []
    }
  ]
}